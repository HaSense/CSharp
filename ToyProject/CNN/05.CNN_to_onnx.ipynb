{
 "cells": [
  {
   "cell_type": "code",
   "execution_count": 5,
   "id": "79afb054-de6f-4aab-b25a-4abb05984fd3",
   "metadata": {},
   "outputs": [],
   "source": [
    "import torch\n",
    "import torch.onnx\n",
    "import torch.nn as nn"
   ]
  },
  {
   "cell_type": "code",
   "execution_count": 6,
   "id": "aed1af77-e7f4-43df-aa81-41becc4094f5",
   "metadata": {},
   "outputs": [],
   "source": [
    "class CNN(torch.nn.Module):\n",
    "\n",
    "    def __init__(self):\n",
    "        super(CNN, self).__init__()\n",
    "        self.keep_prob = 0.5  # 드롭아웃 확률\n",
    "\n",
    "        # L1: 첫 번째 합성곱층 (Conv Layer)\n",
    "        # 입력 이미지 형태: (?, 28, 28, 1)\n",
    "        # Conv2d: 출력 채널 32개, 커널 크기 3x3, 스트라이드 1, 패딩 1\n",
    "        # ReLU: 활성화 함수\n",
    "        # MaxPool2d: 커널 크기 2x2, 스트라이드 2로 다운샘플링 -> 출력 형태: (?, 14, 14, 32)\n",
    "        self.layer1 = torch.nn.Sequential(\n",
    "            torch.nn.Conv2d(1, 32, kernel_size=3, stride=1, padding=1),\n",
    "            torch.nn.ReLU(),\n",
    "            torch.nn.MaxPool2d(kernel_size=2, stride=2))\n",
    "\n",
    "        # L2: 두 번째 합성곱층 (Conv Layer)\n",
    "        # 입력 이미지 형태: (?, 14, 14, 32)\n",
    "        # Conv2d: 출력 채널 64개, 커널 크기 3x3, 스트라이드 1, 패딩 1\n",
    "        # ReLU: 활성화 함수\n",
    "        # MaxPool2d: 커널 크기 2x2, 스트라이드 2로 다운샘플링 -> 출력 형태: (?, 7, 7, 64)\n",
    "        self.layer2 = torch.nn.Sequential(\n",
    "            torch.nn.Conv2d(32, 64, kernel_size=3, stride=1, padding=1),\n",
    "            torch.nn.ReLU(),\n",
    "            torch.nn.MaxPool2d(kernel_size=2, stride=2))\n",
    "\n",
    "        # L3: 세 번째 합성곱층 (Conv Layer)\n",
    "        # 입력 이미지 형태: (?, 7, 7, 64)\n",
    "        # Conv2d: 출력 채널 128개, 커널 크기 3x3, 스트라이드 1, 패딩 1\n",
    "        # ReLU: 활성화 함수\n",
    "        # MaxPool2d: 커널 크기 2x2, 스트라이드 2, 패딩 1로 다운샘플링 -> 출력 형태: (?, 4, 4, 128)\n",
    "        self.layer3 = torch.nn.Sequential(\n",
    "            torch.nn.Conv2d(64, 128, kernel_size=3, stride=1, padding=1),\n",
    "            torch.nn.ReLU(),\n",
    "            torch.nn.MaxPool2d(kernel_size=2, stride=2, padding=1))\n",
    "\n",
    "        # L4: 첫 번째 선형층 (Fully Connected Layer)\n",
    "        # 입력 노드 수: 4x4x128, 출력 노드 수: 625\n",
    "        # ReLU: 활성화 함수\n",
    "        # Dropout: 드롭아웃으로 과적합 방지, p=0.5\n",
    "        self.fc1 = torch.nn.Linear(4 * 4 * 128, 625, bias=True)\n",
    "        torch.nn.init.xavier_uniform_(self.fc1.weight)  # 가중치 초기화\n",
    "        self.layer4 = torch.nn.Sequential(\n",
    "            self.fc1,\n",
    "            torch.nn.ReLU(),\n",
    "            torch.nn.Dropout(p=1 - self.keep_prob))\n",
    "\n",
    "        # L5: 최종 선형층 (Fully Connected Layer)\n",
    "        # 입력 노드 수: 625, 출력 노드 수: 10 (클래스 개수)\n",
    "        self.fc2 = torch.nn.Linear(625, 10, bias=True)\n",
    "        torch.nn.init.xavier_uniform_(self.fc2.weight)  # 가중치 초기화\n",
    "\n",
    "    def forward(self, x):\n",
    "        out = self.layer1(x)  # 첫 번째 합성곱층 통과\n",
    "        out = self.layer2(out)  # 두 번째 합성곱층 통과\n",
    "        out = self.layer3(out)  # 세 번째 합성곱층 통과\n",
    "        out = out.view(out.size(0), -1)  # 선형층에 입력하기 위해 텐서를 Flatten\n",
    "        out = self.layer4(out)  # 첫 번째 선형층 통과\n",
    "        out = self.fc2(out)  # 최종 선형층 통과\n",
    "        return out  # 최종 출력 반환\n"
   ]
  },
  {
   "cell_type": "code",
   "execution_count": 7,
   "id": "dffc8089-dc4d-48bd-b137-c5d26f88bb31",
   "metadata": {},
   "outputs": [
    {
     "name": "stderr",
     "output_type": "stream",
     "text": [
      "C:\\Users\\shhawork\\AppData\\Local\\Temp\\ipykernel_33748\\1365940285.py:3: FutureWarning: You are using `torch.load` with `weights_only=False` (the current default value), which uses the default pickle module implicitly. It is possible to construct malicious pickle data which will execute arbitrary code during unpickling (See https://github.com/pytorch/pytorch/blob/main/SECURITY.md#untrusted-models for more details). In a future release, the default value for `weights_only` will be flipped to `True`. This limits the functions that could be executed during unpickling. Arbitrary objects will no longer be allowed to be loaded via this mode unless they are explicitly allowlisted by the user via `torch.serialization.add_safe_globals`. We recommend you start setting `weights_only=True` for any use case where you don't have full control of the loaded file. Please open an issue on GitHub for any issues related to this experimental feature.\n",
      "  checkpoint = torch.load('cnn_model_v2.pth')\n"
     ]
    },
    {
     "data": {
      "text/plain": [
       "CNN(\n",
       "  (layer1): Sequential(\n",
       "    (0): Conv2d(1, 32, kernel_size=(3, 3), stride=(1, 1), padding=(1, 1))\n",
       "    (1): ReLU()\n",
       "    (2): MaxPool2d(kernel_size=2, stride=2, padding=0, dilation=1, ceil_mode=False)\n",
       "  )\n",
       "  (layer2): Sequential(\n",
       "    (0): Conv2d(32, 64, kernel_size=(3, 3), stride=(1, 1), padding=(1, 1))\n",
       "    (1): ReLU()\n",
       "    (2): MaxPool2d(kernel_size=2, stride=2, padding=0, dilation=1, ceil_mode=False)\n",
       "  )\n",
       "  (layer3): Sequential(\n",
       "    (0): Conv2d(64, 128, kernel_size=(3, 3), stride=(1, 1), padding=(1, 1))\n",
       "    (1): ReLU()\n",
       "    (2): MaxPool2d(kernel_size=2, stride=2, padding=1, dilation=1, ceil_mode=False)\n",
       "  )\n",
       "  (fc1): Linear(in_features=2048, out_features=625, bias=True)\n",
       "  (layer4): Sequential(\n",
       "    (0): Linear(in_features=2048, out_features=625, bias=True)\n",
       "    (1): ReLU()\n",
       "    (2): Dropout(p=0.5, inplace=False)\n",
       "  )\n",
       "  (fc2): Linear(in_features=625, out_features=10, bias=True)\n",
       ")"
      ]
     },
     "execution_count": 7,
     "metadata": {},
     "output_type": "execute_result"
    }
   ],
   "source": [
    "# 모델 초기화 및 가중치 로드\n",
    "model = CNN()\n",
    "checkpoint = torch.load('cnn_model_v2.pth')\n",
    "model.load_state_dict(checkpoint['model_state_dict'])\n",
    "model.eval()"
   ]
  },
  {
   "cell_type": "code",
   "execution_count": 19,
   "id": "0587ef82-6588-4b87-8110-d535f732ae9a",
   "metadata": {},
   "outputs": [],
   "source": [
    "# 더미 입력 데이터 정의\n",
    "dummy_input = torch.randn(1, 1, 28, 28)\n",
    "\n",
    "# 모델을 ONNX 형식으로 내보내기\n",
    "torch.onnx.export(model, dummy_input, \"cnn_model.onnx\", verbose=True, input_names=['input'], output_names=['output'])"
   ]
  },
  {
   "cell_type": "code",
   "execution_count": null,
   "id": "60a0d131-cda5-4483-bce9-0e9fd998fdac",
   "metadata": {},
   "outputs": [],
   "source": []
  },
  {
   "cell_type": "code",
   "execution_count": null,
   "id": "e8086fe4-b2a4-4aaa-83e5-11761f7110a4",
   "metadata": {},
   "outputs": [],
   "source": []
  }
 ],
 "metadata": {
  "kernelspec": {
   "display_name": "Python 3 (ipykernel)",
   "language": "python",
   "name": "python3"
  },
  "language_info": {
   "codemirror_mode": {
    "name": "ipython",
    "version": 3
   },
   "file_extension": ".py",
   "mimetype": "text/x-python",
   "name": "python",
   "nbconvert_exporter": "python",
   "pygments_lexer": "ipython3",
   "version": "3.10.15"
  }
 },
 "nbformat": 4,
 "nbformat_minor": 5
}
