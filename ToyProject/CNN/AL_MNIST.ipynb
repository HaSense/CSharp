{
 "cells": [
  {
   "cell_type": "code",
   "execution_count": 1,
   "id": "39070e88-8336-4243-ab21-5ffec58bd1b9",
   "metadata": {},
   "outputs": [],
   "source": [
    "import torch\n",
    "import torch.nn as nn\n",
    "import torchvision.datasets as dsets\n",
    "import torchvision.transforms as transforms\n",
    "import torch.nn.init"
   ]
  },
  {
   "cell_type": "code",
   "execution_count": 2,
   "id": "de8ea161-2569-476b-af0f-30bd24adcedf",
   "metadata": {},
   "outputs": [
    {
     "name": "stdout",
     "output_type": "stream",
     "text": [
      "cuda\n"
     ]
    }
   ],
   "source": [
    "device = 'cuda' if torch.cuda.is_available() else 'cpu'\n",
    "\n",
    "# 랜덤 시드 고정\n",
    "torch.manual_seed(777)\n",
    "\n",
    "# GPU 사용 가능일 경우 랜덤 시드 고정\n",
    "if device == 'cuda':\n",
    "    torch.cuda.manual_seed_all(777)\n",
    "\n",
    "print(device)"
   ]
  },
  {
   "cell_type": "code",
   "execution_count": 3,
   "id": "5ab09671-694a-4e36-9170-da70ad1761c6",
   "metadata": {},
   "outputs": [],
   "source": [
    "learning_rate = 0.001\n",
    "training_epochs = 15\n",
    "batch_size = 100"
   ]
  },
  {
   "cell_type": "code",
   "execution_count": 4,
   "id": "19782507-bc71-484e-a218-31a47788513d",
   "metadata": {},
   "outputs": [],
   "source": [
    "mnist_train = dsets.MNIST(root='MNIST_data/', # 다운로드 경로 지정\n",
    "                          train=True, # True를 지정하면 훈련 데이터로 다운로드\n",
    "                          transform=transforms.ToTensor(), # 텐서로 변환\n",
    "                          download=True)\n",
    "\n",
    "mnist_test = dsets.MNIST(root='MNIST_data/', # 다운로드 경로 지정\n",
    "                         train=False, # False를 지정하면 테스트 데이터로 다운로드\n",
    "                         transform=transforms.ToTensor(), # 텐서로 변환\n",
    "                         download=True)"
   ]
  },
  {
   "cell_type": "code",
   "execution_count": 5,
   "id": "10fd19c4-49c3-4859-aa27-bf17b76c6b12",
   "metadata": {},
   "outputs": [],
   "source": [
    "data_loader = torch.utils.data.DataLoader(dataset=mnist_train,\n",
    "                                          batch_size=batch_size,\n",
    "                                          shuffle=True,\n",
    "                                          drop_last=True)"
   ]
  },
  {
   "cell_type": "code",
   "execution_count": 6,
   "id": "485cc05d-d5f2-455a-8d12-234a4f7d70b4",
   "metadata": {},
   "outputs": [],
   "source": [
    "class CNN(torch.nn.Module):\n",
    "\n",
    "    def __init__(self):\n",
    "        super(CNN, self).__init__()\n",
    "        # 첫번째층\n",
    "        # ImgIn shape=(?, 28, 28, 1)\n",
    "        #    Conv     -> (?, 28, 28, 32)\n",
    "        #    Pool     -> (?, 14, 14, 32)\n",
    "        self.layer1 = torch.nn.Sequential(\n",
    "            torch.nn.Conv2d(1, 32, kernel_size=3, stride=1, padding=1),\n",
    "            torch.nn.ReLU(),\n",
    "            torch.nn.MaxPool2d(kernel_size=2, stride=2))\n",
    "\n",
    "        # 두번째층\n",
    "        # ImgIn shape=(?, 14, 14, 32)\n",
    "        #    Conv      ->(?, 14, 14, 64)\n",
    "        #    Pool      ->(?, 7, 7, 64)\n",
    "        self.layer2 = torch.nn.Sequential(\n",
    "            torch.nn.Conv2d(32, 64, kernel_size=3, stride=1, padding=1),\n",
    "            torch.nn.ReLU(),\n",
    "            torch.nn.MaxPool2d(kernel_size=2, stride=2))\n",
    "\n",
    "        # 전결합층 7x7x64 inputs -> 10 outputs\n",
    "        self.fc = torch.nn.Linear(7 * 7 * 64, 10, bias=True)\n",
    "\n",
    "        # 전결합층 한정으로 가중치 초기화\n",
    "        torch.nn.init.xavier_uniform_(self.fc.weight)\n",
    "\n",
    "    def forward(self, x):\n",
    "        out = self.layer1(x)\n",
    "        out = self.layer2(out)\n",
    "        out = out.view(out.size(0), -1)   # 전결합층을 위해서 Flatten\n",
    "        out = self.fc(out)\n",
    "        return out\n"
   ]
  },
  {
   "cell_type": "code",
   "execution_count": 7,
   "id": "19bd1ca0-0413-43cf-a49f-2183cb6f78b0",
   "metadata": {},
   "outputs": [],
   "source": [
    "# CNN 모델 정의\n",
    "model = CNN().to(device)"
   ]
  },
  {
   "cell_type": "code",
   "execution_count": 8,
   "id": "ea90b1e7-264e-457c-a588-d8d545a3403c",
   "metadata": {},
   "outputs": [],
   "source": [
    "criterion = torch.nn.CrossEntropyLoss().to(device)    # 비용 함수에 소프트맥스 함수 포함되어져 있음.\n",
    "optimizer = torch.optim.Adam(model.parameters(), lr=learning_rate)"
   ]
  },
  {
   "cell_type": "code",
   "execution_count": 9,
   "id": "3f531d2f-4d9c-4434-9096-43bf7a9becc2",
   "metadata": {},
   "outputs": [
    {
     "name": "stdout",
     "output_type": "stream",
     "text": [
      "총 배치의 수 : 600\n"
     ]
    }
   ],
   "source": [
    "total_batch = len(data_loader)\n",
    "print('총 배치의 수 : {}'.format(total_batch))"
   ]
  },
  {
   "cell_type": "code",
   "execution_count": 10,
   "id": "2a174874-6623-472d-8ded-f54c77a18882",
   "metadata": {},
   "outputs": [
    {
     "name": "stdout",
     "output_type": "stream",
     "text": [
      "[Epoch:    1] cost = 0.225747854\n",
      "[Epoch:    2] cost = 0.0631036013\n",
      "[Epoch:    3] cost = 0.0462289527\n",
      "[Epoch:    4] cost = 0.0374159664\n",
      "[Epoch:    5] cost = 0.0313473791\n",
      "[Epoch:    6] cost = 0.0262083877\n",
      "[Epoch:    7] cost = 0.0219490901\n",
      "[Epoch:    8] cost = 0.0184005313\n",
      "[Epoch:    9] cost = 0.0162676517\n",
      "[Epoch:   10] cost = 0.0133201927\n",
      "[Epoch:   11] cost = 0.0104155811\n",
      "[Epoch:   12] cost = 0.0105544711\n",
      "[Epoch:   13] cost = 0.00794473104\n",
      "[Epoch:   14] cost = 0.00631330162\n",
      "[Epoch:   15] cost = 0.00865673088\n"
     ]
    }
   ],
   "source": [
    "for epoch in range(training_epochs):\n",
    "    avg_cost = 0  # 에포크당 평균 비용을 저장하기 위한 변수 초기화\n",
    "\n",
    "    for X, Y in data_loader:  # 미니 배치 단위로 데이터를 꺼내옴. X는 입력 데이터, Y는 레이블\n",
    "        # 이미지 데이터는 이미 (28x28) 크기를 가지므로, 별도의 reshape 필요 없음\n",
    "        # 레이블 Y는 원-핫 인코딩이 아닌 정수형 클래스 레이블임\n",
    "        X = X.to(device)  # 입력 데이터를 연산이 수행될 장치로 이동 (예: GPU)\n",
    "        Y = Y.to(device)  # 레이블을 연산이 수행될 장치로 이동 (예: GPU)\n",
    "\n",
    "        optimizer.zero_grad()  # 옵티마이저의 기울기 초기화\n",
    "        hypothesis = model(X)  # 모델을 통해 예측값(hypothesis)을 계산 (순전파 연산)\n",
    "        cost = criterion(hypothesis, Y)  # 예측값과 실제값 Y 간의 손실(cost) 계산\n",
    "        cost.backward()  # 역전파 연산을 통해 기울기 계산\n",
    "        optimizer.step()  # 옵티마이저를 통해 파라미터 업데이트\n",
    "\n",
    "        avg_cost += cost / total_batch  # 현재 배치의 비용을 전체 배치 수로 나누어 누적\n",
    "\n",
    "    # 에포크가 끝날 때마다 평균 비용 출력\n",
    "    print('[Epoch: {:>4}] cost = {:>.9}'.format(epoch + 1, avg_cost))"
   ]
  },
  {
   "cell_type": "code",
   "execution_count": 11,
   "id": "3be74050-3fd3-46fb-afc9-839eeed1722f",
   "metadata": {},
   "outputs": [
    {
     "name": "stderr",
     "output_type": "stream",
     "text": [
      "C:\\Users\\shhawork\\anaconda3\\envs\\whisper\\lib\\site-packages\\torchvision\\datasets\\mnist.py:81: UserWarning: test_data has been renamed data\n",
      "  warnings.warn(\"test_data has been renamed data\")\n",
      "C:\\Users\\shhawork\\anaconda3\\envs\\whisper\\lib\\site-packages\\torchvision\\datasets\\mnist.py:71: UserWarning: test_labels has been renamed targets\n",
      "  warnings.warn(\"test_labels has been renamed targets\")\n"
     ]
    },
    {
     "name": "stdout",
     "output_type": "stream",
     "text": [
      "Accuracy: 0.9860000014305115\n"
     ]
    }
   ],
   "source": [
    "# 학습을 진행하지 않을 것이므로 torch.no_grad() 사용\n",
    "with torch.no_grad():\n",
    "    # 테스트 데이터를 모델에 입력하기 위한 준비\n",
    "    X_test = mnist_test.test_data.view(len(mnist_test), 1, 28, 28).float().to(device)  # 테스트 데이터셋의 크기를 맞추고, 연산을 위한 장치로 이동\n",
    "    Y_test = mnist_test.test_labels.to(device)  # 테스트 데이터셋의 레이블을 연산을 위한 장치로 이동\n",
    "\n",
    "    # 모델 예측 수행\n",
    "    prediction = model(X_test)  # 테스트 데이터에 대해 모델이 예측한 결과값\n",
    "\n",
    "    # 예측 결과와 실제 레이블 비교\n",
    "    correct_prediction = torch.argmax(prediction, 1) == Y_test  # 예측된 클래스와 실제 레이블이 일치하는지 확인\n",
    "\n",
    "    # 정확도 계산\n",
    "    accuracy = correct_prediction.float().mean()  # 정확도를 계산하기 위해 일치하는 예측의 평균을 구함\n",
    "    print('Accuracy:', accuracy.item())  # 정확도를 출력\n"
   ]
  },
  {
   "cell_type": "code",
   "execution_count": null,
   "id": "906d38e6-b937-4be9-a59e-f93414f8c20b",
   "metadata": {},
   "outputs": [],
   "source": []
  },
  {
   "cell_type": "code",
   "execution_count": null,
   "id": "be759cac-46e9-408b-831b-8f4a75afbe7d",
   "metadata": {},
   "outputs": [],
   "source": []
  },
  {
   "cell_type": "code",
   "execution_count": null,
   "id": "220176ba-2d8b-4ab6-b11b-a52c3895b7fc",
   "metadata": {},
   "outputs": [],
   "source": []
  },
  {
   "cell_type": "code",
   "execution_count": null,
   "id": "8abbb20d-23d2-43a9-9279-6eacbdc126dc",
   "metadata": {},
   "outputs": [],
   "source": []
  }
 ],
 "metadata": {
  "kernelspec": {
   "display_name": "Python 3 (ipykernel)",
   "language": "python",
   "name": "python3"
  },
  "language_info": {
   "codemirror_mode": {
    "name": "ipython",
    "version": 3
   },
   "file_extension": ".py",
   "mimetype": "text/x-python",
   "name": "python",
   "nbconvert_exporter": "python",
   "pygments_lexer": "ipython3",
   "version": "3.10.15"
  }
 },
 "nbformat": 4,
 "nbformat_minor": 5
}
