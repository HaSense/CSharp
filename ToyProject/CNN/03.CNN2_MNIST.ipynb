{
 "cells": [
  {
   "cell_type": "code",
   "execution_count": 1,
   "id": "e18df9dc-ccb2-42cf-956c-45ed327fa508",
   "metadata": {},
   "outputs": [],
   "source": [
    "import torch\n",
    "import torch.nn as nn"
   ]
  },
  {
   "cell_type": "markdown",
   "id": "e7ef605d-3525-49fa-af98-c2277c7401ac",
   "metadata": {},
   "source": [
    "# 1번 레이어 : 합성곱층(Convolutional layer)\n",
    "합성곱(in_channel = 1, out_channel = 32, kernel_size=3, stride=1, padding=1) + 활성화 함수 ReLU\n",
    "맥스풀링(kernel_size=2, stride=2))\n",
    "\n",
    "# 2번 레이어 : 합성곱층(Convolutional layer)\n",
    "합성곱(in_channel = 32, out_channel = 64, kernel_size=3, stride=1, padding=1) + 활성화 함수 ReLU\n",
    "맥스풀링(kernel_size=2, stride=2))\n",
    "\n",
    "# 3번 레이어 : 전결합층(Fully-Connected layer)\n",
    "특성맵을 펼친다. # batch_size × 7 × 7 × 64 → batch_size × 3136\n",
    "전결합층(뉴런 10개) + 활성화 함수 Softmax"
   ]
  },
  {
   "cell_type": "code",
   "execution_count": 2,
   "id": "a7da74b8-16d3-4297-a0f2-9a19cc357ff3",
   "metadata": {},
   "outputs": [
    {
     "name": "stdout",
     "output_type": "stream",
     "text": [
      "텐서의 크기 : torch.Size([1, 1, 28, 28])\n"
     ]
    }
   ],
   "source": [
    "# 배치 크기 × 채널 × 높이(height) × 너비(widht)의 크기의 텐서를 선언\n",
    "inputs = torch.Tensor(1, 1, 28, 28)\n",
    "print('텐서의 크기 : {}'.format(inputs.shape))"
   ]
  },
  {
   "cell_type": "code",
   "execution_count": 3,
   "id": "2bc04166-5a4e-46da-a95c-60c7687f66ac",
   "metadata": {},
   "outputs": [
    {
     "name": "stdout",
     "output_type": "stream",
     "text": [
      "Conv2d(1, 32, kernel_size=(3, 3), stride=(1, 1), padding=(1, 1))\n"
     ]
    }
   ],
   "source": [
    "conv1 = nn.Conv2d(1, 32, 3, padding=1)\n",
    "print(conv1)"
   ]
  },
  {
   "cell_type": "code",
   "execution_count": 4,
   "id": "a364f1cb-4491-4e72-928c-3f7824e3afb3",
   "metadata": {},
   "outputs": [
    {
     "name": "stdout",
     "output_type": "stream",
     "text": [
      "Conv2d(32, 64, kernel_size=(3, 3), stride=(1, 1), padding=(1, 1))\n"
     ]
    }
   ],
   "source": [
    "conv2 = nn.Conv2d(32, 64, kernel_size=3, padding=1)\n",
    "print(conv2)"
   ]
  },
  {
   "cell_type": "code",
   "execution_count": 5,
   "id": "c982bc32-af92-42ab-9a2b-f25aed5d3603",
   "metadata": {},
   "outputs": [
    {
     "name": "stdout",
     "output_type": "stream",
     "text": [
      "MaxPool2d(kernel_size=2, stride=2, padding=0, dilation=1, ceil_mode=False)\n"
     ]
    }
   ],
   "source": [
    "pool = nn.MaxPool2d(2)\n",
    "print(pool)"
   ]
  },
  {
   "cell_type": "code",
   "execution_count": 6,
   "id": "b2b2161b-c545-46e9-b809-1f844b2b6ac1",
   "metadata": {},
   "outputs": [
    {
     "name": "stdout",
     "output_type": "stream",
     "text": [
      "torch.Size([1, 32, 28, 28])\n"
     ]
    }
   ],
   "source": [
    "out = conv1(inputs)\n",
    "print(out.shape)"
   ]
  },
  {
   "cell_type": "code",
   "execution_count": 7,
   "id": "2c22c543-a692-4c21-ab7a-80d75b9daed7",
   "metadata": {},
   "outputs": [
    {
     "name": "stdout",
     "output_type": "stream",
     "text": [
      "torch.Size([1, 32, 14, 14])\n"
     ]
    }
   ],
   "source": [
    "out = pool(out)\n",
    "print(out.shape)"
   ]
  },
  {
   "cell_type": "code",
   "execution_count": 8,
   "id": "6e3e69c4-47b7-4ca0-ac49-4690e70b893d",
   "metadata": {},
   "outputs": [
    {
     "name": "stdout",
     "output_type": "stream",
     "text": [
      "torch.Size([1, 64, 14, 14])\n"
     ]
    }
   ],
   "source": [
    "out = conv2(out)\n",
    "print(out.shape)"
   ]
  },
  {
   "cell_type": "code",
   "execution_count": 9,
   "id": "fd6f1727-fb0e-472b-a5e8-8ec09e6565c9",
   "metadata": {},
   "outputs": [
    {
     "name": "stdout",
     "output_type": "stream",
     "text": [
      "torch.Size([1, 64, 7, 7])\n"
     ]
    }
   ],
   "source": [
    "out = pool(out)\n",
    "print(out.shape)"
   ]
  },
  {
   "cell_type": "code",
   "execution_count": 10,
   "id": "b9debc31-b32d-4061-9dfd-d1c9f94dd92e",
   "metadata": {},
   "outputs": [
    {
     "data": {
      "text/plain": [
       "1"
      ]
     },
     "execution_count": 10,
     "metadata": {},
     "output_type": "execute_result"
    }
   ],
   "source": [
    "out.size(0)"
   ]
  },
  {
   "cell_type": "code",
   "execution_count": 11,
   "id": "1e5eb70e-73f1-4d20-98b8-65a5e7a70da6",
   "metadata": {},
   "outputs": [
    {
     "data": {
      "text/plain": [
       "64"
      ]
     },
     "execution_count": 11,
     "metadata": {},
     "output_type": "execute_result"
    }
   ],
   "source": [
    "out.size(1)"
   ]
  },
  {
   "cell_type": "code",
   "execution_count": 12,
   "id": "7b577d5b-7dee-4bd2-8daf-b02838b35544",
   "metadata": {},
   "outputs": [
    {
     "data": {
      "text/plain": [
       "7"
      ]
     },
     "execution_count": 12,
     "metadata": {},
     "output_type": "execute_result"
    }
   ],
   "source": [
    "out.size(2)"
   ]
  },
  {
   "cell_type": "code",
   "execution_count": 13,
   "id": "71cfeefc-0f7d-40cd-9162-ccde02be1674",
   "metadata": {},
   "outputs": [
    {
     "data": {
      "text/plain": [
       "7"
      ]
     },
     "execution_count": 13,
     "metadata": {},
     "output_type": "execute_result"
    }
   ],
   "source": [
    "out.size(3)"
   ]
  },
  {
   "cell_type": "code",
   "execution_count": 14,
   "id": "63f2e5ba-9f59-4423-bc25-0161c2fa668f",
   "metadata": {},
   "outputs": [
    {
     "name": "stdout",
     "output_type": "stream",
     "text": [
      "torch.Size([1, 3136])\n"
     ]
    }
   ],
   "source": [
    "# 첫번째 차원인 배치 차원은 그대로 두고 나머지는 펼쳐라\n",
    "out = out.view(out.size(0), -1) \n",
    "print(out.shape)"
   ]
  },
  {
   "cell_type": "code",
   "execution_count": 15,
   "id": "b22dd740-5571-4622-8c7d-952668e6d565",
   "metadata": {},
   "outputs": [
    {
     "name": "stdout",
     "output_type": "stream",
     "text": [
      "torch.Size([1, 10])\n"
     ]
    }
   ],
   "source": [
    "fc = nn.Linear(3136, 10) # input_dim = 3,136, output_dim = 10\n",
    "out = fc(out)\n",
    "print(out.shape)"
   ]
  },
  {
   "cell_type": "markdown",
   "id": "813de3f9-22c6-4747-ba1d-93cc2480b942",
   "metadata": {},
   "source": [
    "3. CNN으로 MNIST 분류하기"
   ]
  },
  {
   "cell_type": "code",
   "execution_count": 17,
   "id": "9a1a85c5-5c3a-4431-a543-1f94d9d928df",
   "metadata": {},
   "outputs": [],
   "source": [
    "import torch\n",
    "import torchvision.datasets as dsets\n",
    "import torchvision.transforms as transforms\n",
    "import torch.nn.init"
   ]
  },
  {
   "cell_type": "code",
   "execution_count": 19,
   "id": "2a1550f7-0cb7-4c04-a5d3-0ba420d79b33",
   "metadata": {},
   "outputs": [
    {
     "name": "stdout",
     "output_type": "stream",
     "text": [
      "cuda\n"
     ]
    }
   ],
   "source": [
    "device = 'cuda' if torch.cuda.is_available() else 'cpu'\n",
    "\n",
    "# 랜덤 시드 고정\n",
    "torch.manual_seed(777)\n",
    "\n",
    "# GPU 사용 가능일 경우 랜덤 시드 고정\n",
    "if device == 'cuda':\n",
    "    torch.cuda.manual_seed_all(777)\n",
    "\n",
    "print(device)"
   ]
  },
  {
   "cell_type": "code",
   "execution_count": 20,
   "id": "bb2ed681-0705-4d63-bc02-6d3e2a1ed6cd",
   "metadata": {},
   "outputs": [],
   "source": [
    "learning_rate = 0.001\n",
    "training_epochs = 15\n",
    "batch_size = 100"
   ]
  },
  {
   "cell_type": "code",
   "execution_count": 21,
   "id": "8a091656-a21f-4be2-99c5-d652bfac8972",
   "metadata": {},
   "outputs": [],
   "source": [
    "mnist_train = dsets.MNIST(root='MNIST_data/', # 다운로드 경로 지정\n",
    "                          train=True, # True를 지정하면 훈련 데이터로 다운로드\n",
    "                          transform=transforms.ToTensor(), # 텐서로 변환\n",
    "                          download=True)\n",
    "\n",
    "mnist_test = dsets.MNIST(root='MNIST_data/', # 다운로드 경로 지정\n",
    "                         train=False, # False를 지정하면 테스트 데이터로 다운로드\n",
    "                         transform=transforms.ToTensor(), # 텐서로 변환\n",
    "                         download=True)"
   ]
  },
  {
   "cell_type": "code",
   "execution_count": 22,
   "id": "0f08c6cd-8212-4d08-b8b1-0ffa166da13b",
   "metadata": {},
   "outputs": [],
   "source": [
    "data_loader = torch.utils.data.DataLoader(dataset=mnist_train,\n",
    "                                          batch_size=batch_size,\n",
    "                                          shuffle=True,\n",
    "                                          drop_last=True)"
   ]
  },
  {
   "cell_type": "code",
   "execution_count": 23,
   "id": "66f07e0e-ab2c-42b2-8327-597290dfd949",
   "metadata": {},
   "outputs": [],
   "source": [
    "class CNN(torch.nn.Module):\n",
    "\n",
    "    def __init__(self):\n",
    "        super(CNN, self).__init__()\n",
    "        # 첫번째층\n",
    "        # ImgIn shape=(?, 28, 28, 1)\n",
    "        #    Conv     -> (?, 28, 28, 32)\n",
    "        #    Pool     -> (?, 14, 14, 32)\n",
    "        self.layer1 = torch.nn.Sequential(\n",
    "            torch.nn.Conv2d(1, 32, kernel_size=3, stride=1, padding=1),\n",
    "            torch.nn.ReLU(),\n",
    "            torch.nn.MaxPool2d(kernel_size=2, stride=2))\n",
    "\n",
    "        # 두번째층\n",
    "        # ImgIn shape=(?, 14, 14, 32)\n",
    "        #    Conv      ->(?, 14, 14, 64)\n",
    "        #    Pool      ->(?, 7, 7, 64)\n",
    "        self.layer2 = torch.nn.Sequential(\n",
    "            torch.nn.Conv2d(32, 64, kernel_size=3, stride=1, padding=1),\n",
    "            torch.nn.ReLU(),\n",
    "            torch.nn.MaxPool2d(kernel_size=2, stride=2))\n",
    "\n",
    "        # 전결합층 7x7x64 inputs -> 10 outputs\n",
    "        self.fc = torch.nn.Linear(7 * 7 * 64, 10, bias=True)\n",
    "\n",
    "        # 전결합층 한정으로 가중치 초기화\n",
    "        torch.nn.init.xavier_uniform_(self.fc.weight)\n",
    "\n",
    "    def forward(self, x):\n",
    "        out = self.layer1(x)\n",
    "        out = self.layer2(out)\n",
    "        out = out.view(out.size(0), -1)   # 전결합층을 위해서 Flatten\n",
    "        out = self.fc(out)\n",
    "        return out"
   ]
  },
  {
   "cell_type": "code",
   "execution_count": 24,
   "id": "f0853f1d-1b27-4182-b5b9-1ad9bebe3297",
   "metadata": {},
   "outputs": [],
   "source": [
    "# CNN 모델 정의\n",
    "model = CNN().to(device)"
   ]
  },
  {
   "cell_type": "code",
   "execution_count": 25,
   "id": "52aff602-5177-4386-81fa-c59dbb1af378",
   "metadata": {},
   "outputs": [],
   "source": [
    "criterion = torch.nn.CrossEntropyLoss().to(device)    # 비용 함수에 소프트맥스 함수 포함되어져 있음.\n",
    "optimizer = torch.optim.Adam(model.parameters(), lr=learning_rate)"
   ]
  },
  {
   "cell_type": "code",
   "execution_count": 26,
   "id": "d24e9735-0a64-4306-b9b4-7ce387f5e377",
   "metadata": {},
   "outputs": [
    {
     "name": "stdout",
     "output_type": "stream",
     "text": [
      "총 배치의 수 : 600\n"
     ]
    }
   ],
   "source": [
    "total_batch = len(data_loader)\n",
    "print('총 배치의 수 : {}'.format(total_batch))"
   ]
  },
  {
   "cell_type": "code",
   "execution_count": 27,
   "id": "40ce52e1-2751-4006-872c-16083491ee96",
   "metadata": {},
   "outputs": [
    {
     "name": "stdout",
     "output_type": "stream",
     "text": [
      "[Epoch:    1] cost = 0.225828081\n",
      "[Epoch:    2] cost = 0.0630115345\n",
      "[Epoch:    3] cost = 0.0463976637\n",
      "[Epoch:    4] cost = 0.037449237\n",
      "[Epoch:    5] cost = 0.0313328803\n",
      "[Epoch:    6] cost = 0.0261680894\n",
      "[Epoch:    7] cost = 0.0218633059\n",
      "[Epoch:    8] cost = 0.0183467679\n",
      "[Epoch:    9] cost = 0.0162969939\n",
      "[Epoch:   10] cost = 0.0131965\n",
      "[Epoch:   11] cost = 0.0101859076\n",
      "[Epoch:   12] cost = 0.0099909585\n",
      "[Epoch:   13] cost = 0.00890605431\n",
      "[Epoch:   14] cost = 0.00668327929\n",
      "[Epoch:   15] cost = 0.00637465762\n"
     ]
    }
   ],
   "source": [
    "for epoch in range(training_epochs):\n",
    "    avg_cost = 0  # 에포크당 평균 비용을 저장하기 위한 변수 초기화\n",
    "\n",
    "    for X, Y in data_loader:  # 미니 배치 단위로 데이터를 꺼내옴. X는 입력 데이터, Y는 레이블\n",
    "        # 이미지 데이터는 이미 (28x28) 크기를 가지므로, 별도의 reshape 필요 없음\n",
    "        # 레이블 Y는 원-핫 인코딩이 아닌 정수형 클래스 레이블임\n",
    "        X = X.to(device)  # 입력 데이터를 연산이 수행될 장치로 이동 (예: GPU)\n",
    "        Y = Y.to(device)  # 레이블을 연산이 수행될 장치로 이동 (예: GPU)\n",
    "\n",
    "        optimizer.zero_grad()  # 옵티마이저의 기울기 초기화\n",
    "        hypothesis = model(X)  # 모델을 통해 예측값(hypothesis)을 계산 (순전파 연산)\n",
    "        cost = criterion(hypothesis, Y)  # 예측값과 실제값 Y 간의 손실(cost) 계산\n",
    "        cost.backward()  # 역전파 연산을 통해 기울기 계산\n",
    "        optimizer.step()  # 옵티마이저를 통해 파라미터 업데이트\n",
    "\n",
    "        avg_cost += cost / total_batch  # 현재 배치의 비용을 전체 배치 수로 나누어 누적\n",
    "\n",
    "    # 에포크가 끝날 때마다 평균 비용 출력\n",
    "    print('[Epoch: {:>4}] cost = {:>.9}'.format(epoch + 1, avg_cost))"
   ]
  },
  {
   "cell_type": "code",
   "execution_count": 28,
   "id": "9a39c1c5-21af-4232-a65b-88eec36c63e0",
   "metadata": {},
   "outputs": [
    {
     "name": "stderr",
     "output_type": "stream",
     "text": [
      "C:\\Users\\shhawork\\anaconda3\\envs\\whisper\\lib\\site-packages\\torchvision\\datasets\\mnist.py:81: UserWarning: test_data has been renamed data\n",
      "  warnings.warn(\"test_data has been renamed data\")\n",
      "C:\\Users\\shhawork\\anaconda3\\envs\\whisper\\lib\\site-packages\\torchvision\\datasets\\mnist.py:71: UserWarning: test_labels has been renamed targets\n",
      "  warnings.warn(\"test_labels has been renamed targets\")\n"
     ]
    },
    {
     "name": "stdout",
     "output_type": "stream",
     "text": [
      "Accuracy: 0.9873999953269958\n"
     ]
    }
   ],
   "source": [
    "# 학습을 진행하지 않을 것이므로 torch.no_grad() 사용\n",
    "with torch.no_grad():\n",
    "    # 테스트 데이터를 모델에 입력하기 위한 준비\n",
    "    X_test = mnist_test.test_data.view(len(mnist_test), 1, 28, 28).float().to(device)  # 테스트 데이터셋의 크기를 맞추고, 연산을 위한 장치로 이동\n",
    "    Y_test = mnist_test.test_labels.to(device)  # 테스트 데이터셋의 레이블을 연산을 위한 장치로 이동\n",
    "\n",
    "    # 모델 예측 수행\n",
    "    prediction = model(X_test)  # 테스트 데이터에 대해 모델이 예측한 결과값\n",
    "\n",
    "    # 예측 결과와 실제 레이블 비교\n",
    "    correct_prediction = torch.argmax(prediction, 1) == Y_test  # 예측된 클래스와 실제 레이블이 일치하는지 확인\n",
    "\n",
    "    # 정확도 계산\n",
    "    accuracy = correct_prediction.float().mean()  # 정확도를 계산하기 위해 일치하는 예측의 평균을 구함\n",
    "    print('Accuracy:', accuracy.item())  # 정확도를 출력"
   ]
  },
  {
   "cell_type": "code",
   "execution_count": null,
   "id": "3c6efbdd-7303-4ac5-888e-df8f40e8aef5",
   "metadata": {},
   "outputs": [],
   "source": []
  },
  {
   "cell_type": "code",
   "execution_count": null,
   "id": "c74cb86c-0911-4383-954a-18c0bc1f110b",
   "metadata": {},
   "outputs": [],
   "source": []
  },
  {
   "cell_type": "code",
   "execution_count": null,
   "id": "b1e5747f-81ec-4e6b-984e-d36138340331",
   "metadata": {},
   "outputs": [],
   "source": []
  },
  {
   "cell_type": "code",
   "execution_count": null,
   "id": "f2c03ca7-c651-4f75-be4b-45f64442aa53",
   "metadata": {},
   "outputs": [],
   "source": []
  },
  {
   "cell_type": "code",
   "execution_count": null,
   "id": "f116b554-bbc1-45be-b1bd-f29c95f07299",
   "metadata": {},
   "outputs": [],
   "source": []
  },
  {
   "cell_type": "code",
   "execution_count": null,
   "id": "4682cc72-62e4-4fea-a567-0587956d917c",
   "metadata": {},
   "outputs": [],
   "source": []
  }
 ],
 "metadata": {
  "kernelspec": {
   "display_name": "Python 3 (ipykernel)",
   "language": "python",
   "name": "python3"
  },
  "language_info": {
   "codemirror_mode": {
    "name": "ipython",
    "version": 3
   },
   "file_extension": ".py",
   "mimetype": "text/x-python",
   "name": "python",
   "nbconvert_exporter": "python",
   "pygments_lexer": "ipython3",
   "version": "3.10.15"
  }
 },
 "nbformat": 4,
 "nbformat_minor": 5
}
