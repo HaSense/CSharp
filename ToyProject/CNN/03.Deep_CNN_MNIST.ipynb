{
 "cells": [
  {
   "cell_type": "code",
   "execution_count": 2,
   "id": "488afd7a-9314-4cf9-9c14-96d8453619d3",
   "metadata": {},
   "outputs": [],
   "source": [
    "import torch\n",
    "import torchvision.datasets as dsets\n",
    "import torchvision.transforms as transforms\n",
    "import torch.nn.init"
   ]
  },
  {
   "cell_type": "code",
   "execution_count": 3,
   "id": "f2e2edba-b4ce-49c2-9c2f-f09f99bcf8a8",
   "metadata": {},
   "outputs": [],
   "source": [
    "device = 'cuda' if torch.cuda.is_available() else 'cpu'\n",
    "\n",
    "# 랜덤 시드 고정\n",
    "torch.manual_seed(777)\n",
    "\n",
    "# GPU 사용 가능일 경우 랜덤 시드 고정\n",
    "if device == 'cuda':\n",
    "    torch.cuda.manual_seed_all(777)"
   ]
  },
  {
   "cell_type": "code",
   "execution_count": 4,
   "id": "7a7eb802-f037-4c6b-b7ec-faa075f2bda8",
   "metadata": {},
   "outputs": [],
   "source": [
    "learning_rate = 0.001\n",
    "training_epochs = 15\n",
    "batch_size = 100"
   ]
  },
  {
   "cell_type": "code",
   "execution_count": 5,
   "id": "324ca708-4df1-4771-9c24-d9b045103d2f",
   "metadata": {},
   "outputs": [],
   "source": [
    "mnist_train = dsets.MNIST(root='MNIST_data/', # 다운로드 경로 지정\n",
    "                          train=True, # True를 지정하면 훈련 데이터로 다운로드\n",
    "                          transform=transforms.ToTensor(), # 텐서로 변환\n",
    "                          download=True)\n",
    "\n",
    "mnist_test = dsets.MNIST(root='MNIST_data/', # 다운로드 경로 지정\n",
    "                         train=False, # False를 지정하면 테스트 데이터로 다운로드\n",
    "                         transform=transforms.ToTensor(), # 텐서로 변환\n",
    "                         download=True)"
   ]
  },
  {
   "cell_type": "code",
   "execution_count": 6,
   "id": "fccdd535-c159-46da-8e26-49cf93538c70",
   "metadata": {},
   "outputs": [],
   "source": [
    "data_loader = torch.utils.data.DataLoader(dataset=mnist_train,\n",
    "                                          batch_size=batch_size,\n",
    "                                          shuffle=True,\n",
    "                                          drop_last=True)"
   ]
  },
  {
   "cell_type": "code",
   "execution_count": 7,
   "id": "54770fd8-62b0-4101-9086-84b5a8b8d77c",
   "metadata": {},
   "outputs": [],
   "source": [
    "class CNN(torch.nn.Module):\n",
    "\n",
    "    def __init__(self):\n",
    "        super(CNN, self).__init__()\n",
    "        self.keep_prob = 0.5  # 드롭아웃 확률\n",
    "\n",
    "        # L1: 첫 번째 합성곱층 (Conv Layer)\n",
    "        # 입력 이미지 형태: (?, 28, 28, 1)\n",
    "        # Conv2d: 출력 채널 32개, 커널 크기 3x3, 스트라이드 1, 패딩 1\n",
    "        # ReLU: 활성화 함수\n",
    "        # MaxPool2d: 커널 크기 2x2, 스트라이드 2로 다운샘플링 -> 출력 형태: (?, 14, 14, 32)\n",
    "        self.layer1 = torch.nn.Sequential(\n",
    "            torch.nn.Conv2d(1, 32, kernel_size=3, stride=1, padding=1),\n",
    "            torch.nn.ReLU(),\n",
    "            torch.nn.MaxPool2d(kernel_size=2, stride=2))\n",
    "\n",
    "        # L2: 두 번째 합성곱층 (Conv Layer)\n",
    "        # 입력 이미지 형태: (?, 14, 14, 32)\n",
    "        # Conv2d: 출력 채널 64개, 커널 크기 3x3, 스트라이드 1, 패딩 1\n",
    "        # ReLU: 활성화 함수\n",
    "        # MaxPool2d: 커널 크기 2x2, 스트라이드 2로 다운샘플링 -> 출력 형태: (?, 7, 7, 64)\n",
    "        self.layer2 = torch.nn.Sequential(\n",
    "            torch.nn.Conv2d(32, 64, kernel_size=3, stride=1, padding=1),\n",
    "            torch.nn.ReLU(),\n",
    "            torch.nn.MaxPool2d(kernel_size=2, stride=2))\n",
    "\n",
    "        # L3: 세 번째 합성곱층 (Conv Layer)\n",
    "        # 입력 이미지 형태: (?, 7, 7, 64)\n",
    "        # Conv2d: 출력 채널 128개, 커널 크기 3x3, 스트라이드 1, 패딩 1\n",
    "        # ReLU: 활성화 함수\n",
    "        # MaxPool2d: 커널 크기 2x2, 스트라이드 2, 패딩 1로 다운샘플링 -> 출력 형태: (?, 4, 4, 128)\n",
    "        self.layer3 = torch.nn.Sequential(\n",
    "            torch.nn.Conv2d(64, 128, kernel_size=3, stride=1, padding=1),\n",
    "            torch.nn.ReLU(),\n",
    "            torch.nn.MaxPool2d(kernel_size=2, stride=2, padding=1))\n",
    "\n",
    "        # L4: 첫 번째 선형층 (Fully Connected Layer)\n",
    "        # 입력 노드 수: 4x4x128, 출력 노드 수: 625\n",
    "        # ReLU: 활성화 함수\n",
    "        # Dropout: 드롭아웃으로 과적합 방지, p=0.5\n",
    "        self.fc1 = torch.nn.Linear(4 * 4 * 128, 625, bias=True)\n",
    "        torch.nn.init.xavier_uniform_(self.fc1.weight)  # 가중치 초기화\n",
    "        self.layer4 = torch.nn.Sequential(\n",
    "            self.fc1,\n",
    "            torch.nn.ReLU(),\n",
    "            torch.nn.Dropout(p=1 - self.keep_prob))\n",
    "\n",
    "        # L5: 최종 선형층 (Fully Connected Layer)\n",
    "        # 입력 노드 수: 625, 출력 노드 수: 10 (클래스 개수)\n",
    "        self.fc2 = torch.nn.Linear(625, 10, bias=True)\n",
    "        torch.nn.init.xavier_uniform_(self.fc2.weight)  # 가중치 초기화\n",
    "\n",
    "    def forward(self, x):\n",
    "        out = self.layer1(x)  # 첫 번째 합성곱층 통과\n",
    "        out = self.layer2(out)  # 두 번째 합성곱층 통과\n",
    "        out = self.layer3(out)  # 세 번째 합성곱층 통과\n",
    "        out = out.view(out.size(0), -1)  # 선형층에 입력하기 위해 텐서를 Flatten\n",
    "        out = self.layer4(out)  # 첫 번째 선형층 통과\n",
    "        out = self.fc2(out)  # 최종 선형층 통과\n",
    "        return out  # 최종 출력 반환"
   ]
  },
  {
   "cell_type": "code",
   "execution_count": 8,
   "id": "5ef907eb-4fa4-40e0-a429-a0a708bac1b1",
   "metadata": {},
   "outputs": [],
   "source": [
    "# CNN 모델 정의\n",
    "model = CNN().to(device)"
   ]
  },
  {
   "cell_type": "code",
   "execution_count": 9,
   "id": "31f12775-3d66-400c-ab6e-b1cbd911fbdd",
   "metadata": {},
   "outputs": [],
   "source": [
    "criterion = torch.nn.CrossEntropyLoss().to(device)    # 비용 함수에 소프트맥스 함수 포함되어져 있음.\n",
    "optimizer = torch.optim.Adam(model.parameters(), lr=learning_rate)"
   ]
  },
  {
   "cell_type": "code",
   "execution_count": 10,
   "id": "179ca942-5d3f-4d3f-98a3-442e59d084ec",
   "metadata": {},
   "outputs": [
    {
     "name": "stdout",
     "output_type": "stream",
     "text": [
      "총 배치의 수 : 600\n"
     ]
    }
   ],
   "source": [
    "total_batch = len(data_loader)\n",
    "print('총 배치의 수 : {}'.format(total_batch))"
   ]
  },
  {
   "cell_type": "code",
   "execution_count": 12,
   "id": "20ba4710-d07d-4496-8f69-281c14bd67b5",
   "metadata": {},
   "outputs": [
    {
     "name": "stdout",
     "output_type": "stream",
     "text": [
      "[Epoch:    1] cost = 0.193158656\n",
      "[Epoch:    2] cost = 0.0539662912\n",
      "[Epoch:    3] cost = 0.0369493552\n",
      "[Epoch:    4] cost = 0.030394787\n",
      "[Epoch:    5] cost = 0.0233520996\n",
      "[Epoch:    6] cost = 0.0205660947\n",
      "[Epoch:    7] cost = 0.0188753717\n",
      "[Epoch:    8] cost = 0.0147339506\n",
      "[Epoch:    9] cost = 0.0122333663\n",
      "[Epoch:   10] cost = 0.0136825684\n",
      "[Epoch:   11] cost = 0.00921258237\n",
      "[Epoch:   12] cost = 0.00940947514\n",
      "[Epoch:   13] cost = 0.0103416434\n",
      "[Epoch:   14] cost = 0.00672529917\n",
      "[Epoch:   15] cost = 0.0075230333\n"
     ]
    }
   ],
   "source": [
    "for epoch in range(training_epochs):\n",
    "    avg_cost = 0\n",
    "\n",
    "    for X, Y in data_loader: # 미니 배치 단위로 꺼내온다. X는 미니 배치, Y느 ㄴ레이블.\n",
    "        # image is already size of (28x28), no reshape\n",
    "        # label is not one-hot encoded\n",
    "        X = X.to(device)\n",
    "        Y = Y.to(device)\n",
    "\n",
    "        optimizer.zero_grad()\n",
    "        hypothesis = model(X)\n",
    "        cost = criterion(hypothesis, Y)\n",
    "        cost.backward()\n",
    "        optimizer.step()\n",
    "\n",
    "        avg_cost += cost / total_batch\n",
    "\n",
    "    print('[Epoch: {:>4}] cost = {:>.9}'.format(epoch + 1, avg_cost))"
   ]
  },
  {
   "cell_type": "code",
   "execution_count": 13,
   "id": "a3ef3612-e7de-484e-aaf5-835a0d60e749",
   "metadata": {},
   "outputs": [
    {
     "name": "stdout",
     "output_type": "stream",
     "text": [
      "Accuracy: 0.9853999614715576\n"
     ]
    }
   ],
   "source": [
    "# 학습을 진행하지 않을 것이므로 torch.no_grad()\n",
    "with torch.no_grad():\n",
    "    X_test = mnist_test.test_data.view(len(mnist_test), 1, 28, 28).float().to(device)\n",
    "    Y_test = mnist_test.test_labels.to(device)\n",
    "\n",
    "    prediction = model(X_test)\n",
    "    correct_prediction = torch.argmax(prediction, 1) == Y_test\n",
    "    accuracy = correct_prediction.float().mean()\n",
    "    print('Accuracy:', accuracy.item())"
   ]
  },
  {
   "cell_type": "code",
   "execution_count": 14,
   "id": "d2a27100-4791-46a5-a8db-51896b6d8e31",
   "metadata": {},
   "outputs": [],
   "source": [
    "#모델저장\n",
    "# 예: 모델과 옵티마이저 정의\n",
    "#model = CNN().to(device)  # MyModel은 사용자 정의 모델 클래스\n",
    "#optimizer = torch.optim.Adam(model.parameters(), lr=0.001)\n",
    "\n",
    "# 모델 저장 (state_dict 사용)\n",
    "torch.save({\n",
    "    'model_state_dict': model.state_dict(),\n",
    "    'optimizer_state_dict': optimizer.state_dict(),\n",
    "    'epoch': epoch #,  # 현재 에포크 정보 저장\n",
    "    #'loss': loss      # 마지막 손실 값 저장 (선택 사항)\n",
    "}, 'cnn_model_v2.pth')"
   ]
  },
  {
   "cell_type": "code",
   "execution_count": null,
   "id": "c6a9d781-8ada-41cd-9d9c-13d41f6d0324",
   "metadata": {},
   "outputs": [],
   "source": []
  },
  {
   "cell_type": "code",
   "execution_count": null,
   "id": "664dc6cf-10c0-41e1-ad21-ddb7b858201e",
   "metadata": {},
   "outputs": [],
   "source": []
  },
  {
   "cell_type": "code",
   "execution_count": null,
   "id": "ef306539-c9ba-46c9-81fc-b086bbe3196a",
   "metadata": {},
   "outputs": [],
   "source": []
  },
  {
   "cell_type": "code",
   "execution_count": null,
   "id": "8d640889-37a7-46c5-a14d-f4629c9420ef",
   "metadata": {},
   "outputs": [],
   "source": []
  },
  {
   "cell_type": "code",
   "execution_count": null,
   "id": "9be93e70-d0d1-4050-bbe0-782ed36ea70f",
   "metadata": {},
   "outputs": [],
   "source": []
  },
  {
   "cell_type": "code",
   "execution_count": null,
   "id": "f540ec1a-51c3-4a67-a4fa-b65e7ebccc6c",
   "metadata": {},
   "outputs": [],
   "source": []
  },
  {
   "cell_type": "code",
   "execution_count": null,
   "id": "2829e479-86fd-4e22-be68-b9caeeec7def",
   "metadata": {},
   "outputs": [],
   "source": []
  },
  {
   "cell_type": "code",
   "execution_count": null,
   "id": "8f8660f3-41b8-4ee7-9e4a-646248f2b12d",
   "metadata": {},
   "outputs": [],
   "source": []
  },
  {
   "cell_type": "code",
   "execution_count": null,
   "id": "f7ff9a1a-2d35-4341-ba16-6fb1a3dfa1c6",
   "metadata": {},
   "outputs": [],
   "source": []
  }
 ],
 "metadata": {
  "kernelspec": {
   "display_name": "Python 3 (ipykernel)",
   "language": "python",
   "name": "python3"
  },
  "language_info": {
   "codemirror_mode": {
    "name": "ipython",
    "version": 3
   },
   "file_extension": ".py",
   "mimetype": "text/x-python",
   "name": "python",
   "nbconvert_exporter": "python",
   "pygments_lexer": "ipython3",
   "version": "3.10.15"
  }
 },
 "nbformat": 4,
 "nbformat_minor": 5
}
